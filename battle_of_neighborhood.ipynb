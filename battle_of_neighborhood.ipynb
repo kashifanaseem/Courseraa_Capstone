{
 "cells": [
  {
   "cell_type": "markdown",
   "metadata": {
    "collapsed": true
   },
   "source": [
    "# Coursera_Capstone_Project\n",
    "## The Battle of Neighborhoods (Week 1)\n",
    "~KASHIFA NASEEM: Introduction and Data Sections"
   ]
  },
  {
   "cell_type": "code",
   "execution_count": 1,
   "metadata": {},
   "outputs": [
    {
     "name": "stdout",
     "output_type": "stream",
     "text": [
      "Solving environment: done\n",
      "\n",
      "## Package Plan ##\n",
      "\n",
      "  environment location: /opt/conda/envs/Python36\n",
      "\n",
      "  added / updated specs: \n",
      "    - folium=0.5.0\n",
      "\n",
      "\n",
      "The following packages will be downloaded:\n",
      "\n",
      "    package                    |            build\n",
      "    ---------------------------|-----------------\n",
      "    ca-certificates-2019.9.11  |       hecc5488_0         144 KB  conda-forge\n",
      "    vincent-0.4.4              |             py_1          28 KB  conda-forge\n",
      "    branca-0.3.1               |             py_0          25 KB  conda-forge\n",
      "    folium-0.5.0               |             py_0          45 KB  conda-forge\n",
      "    altair-3.2.0               |           py36_0         770 KB  conda-forge\n",
      "    certifi-2019.9.11          |           py36_0         147 KB  conda-forge\n",
      "    openssl-1.1.1c             |       h516909a_0         2.1 MB  conda-forge\n",
      "    ------------------------------------------------------------\n",
      "                                           Total:         3.3 MB\n",
      "\n",
      "The following NEW packages will be INSTALLED:\n",
      "\n",
      "    altair:          3.2.0-py36_0      conda-forge\n",
      "    branca:          0.3.1-py_0        conda-forge\n",
      "    folium:          0.5.0-py_0        conda-forge\n",
      "    vincent:         0.4.4-py_1        conda-forge\n",
      "\n",
      "The following packages will be UPDATED:\n",
      "\n",
      "    ca-certificates: 2019.8.28-0                   --> 2019.9.11-hecc5488_0 conda-forge\n",
      "    certifi:         2019.9.11-py36_0              --> 2019.9.11-py36_0     conda-forge\n",
      "\n",
      "The following packages will be DOWNGRADED:\n",
      "\n",
      "    openssl:         1.1.1d-h7b6447c_2             --> 1.1.1c-h516909a_0    conda-forge\n",
      "\n",
      "\n",
      "Downloading and Extracting Packages\n",
      "ca-certificates-2019 | 144 KB    | ##################################### | 100% \n",
      "vincent-0.4.4        | 28 KB     | ##################################### | 100% \n",
      "branca-0.3.1         | 25 KB     | ##################################### | 100% \n",
      "folium-0.5.0         | 45 KB     | ##################################### | 100% \n",
      "altair-3.2.0         | 770 KB    | ##################################### | 100% \n",
      "certifi-2019.9.11    | 147 KB    | ##################################### | 100% \n",
      "openssl-1.1.1c       | 2.1 MB    | ##################################### | 100% \n",
      "Preparing transaction: done\n",
      "Verifying transaction: done\n",
      "Executing transaction: done\n",
      "Libraries imported.\n"
     ]
    }
   ],
   "source": [
    "import numpy as np # library to handle data in a vectorized manner\n",
    "import time\n",
    "import pandas as pd # library for data analsysis\n",
    "pd.set_option('display.max_columns', None)\n",
    "pd.set_option('display.max_rows', None)\n",
    "\n",
    "import json # library to handle JSON files\n",
    "import requests # library to handle requests\n",
    "from pandas.io.json import json_normalize # tranform JSON file into a pandas dataframe\n",
    "\n",
    "from geopy.geocoders import Nominatim # convert an address into latitude and longitude values\n",
    "!conda install -c conda-forge folium=0.5.0 --yes # uncomment this line if you haven't completed the Foursquare API lab\n",
    "import folium # map rendering library\n",
    "\n",
    "print('Libraries imported.')"
   ]
  },
  {
   "cell_type": "code",
   "execution_count": 2,
   "metadata": {},
   "outputs": [
    {
     "name": "stdout",
     "output_type": "stream",
     "text": [
      "done!\n"
     ]
    }
   ],
   "source": [
    "from folium import plugins\n",
    "\n",
    "# Matplotlib and associated plotting modules\n",
    "import matplotlib.cm as cm\n",
    "import matplotlib.colors as colors\n",
    "\n",
    "import seaborn as sns\n",
    "\n",
    "# import k-means from clustering stage\n",
    "from sklearn.cluster import KMeans\n",
    "print(\"done!\")"
   ]
  },
  {
   "cell_type": "markdown",
   "metadata": {},
   "source": [
    "**Battle of neighborhood** - REPORT CONTENT\n",
    "1. Introduction Section : ⁃ Discussion of the business problem and the interested audience in this project.\n",
    "2. Data Section: ⁃ Description of the data that will be used to solve the problem and the sources.\n",
    "3. Methodology section ⁃ Discussion and description of exploratory data analysis carried out, any inferential statistical testing performed, and if any machine learnings were used establishing the strategy and purposes.\n",
    "4. Results section ⁃ Discussion of the results.\n",
    "5. Discussion section ⁃ Elaboration and discussion on any observations noted and any recommendations suggested based on the results.\n",
    "6. Conclusion section ⁃ Report Conclusion."
   ]
  },
  {
   "cell_type": "markdown",
   "metadata": {},
   "source": [
    "## 1. Introduction Section :\n",
    "## Discussion of the business problem and the audience who would be interested in this project.\n",
    "### Description of the Problem and Background"
   ]
  },
  {
   "cell_type": "markdown",
   "metadata": {},
   "source": [
    "**Scenario:**\n",
    "I am presently living in Delhi, India within walking distance to metro station and enjoy many ammenities and venues in the area, such as various restaurants, cafes, food shops and entertainment now have to relocate to Manhattan, NY to work in a leading firm as a new opportunity. I am very excited for this opportunity, and need to search a place to live according to my needs. There are some question I need to resolve before I move to Manhattan. The key question is : to find a place similar to mine now in Delhi. In order to make a comparison and evaluation of the rental options in Manhattan NY, I must set some basis, therefore the apartment in Manhattan must meet the following demands:\n",
    "\n",
    "apartment must be of 2 bedrooms\n",
    "desired location is near a metro station in the Manhattan area and within 1.0 mile (1.6 km) radius\n",
    "price of rent not exceed $1000 per month\n",
    "top ammenities in the selected neighborhood shall be similar to current residence\n",
    "desirable to have venues such as coffee shops, restaurants Indians, gym and food shops\n",
    "as a reference, I have included a map of venues near current residence in Delhi.\n",
    "\n",
    "<br> **Business Problem:**\n",
    "The challenge is to find a suitable apartment for rent in Manhattan NY that complies with the demands on location, price and venues. The data required to resolve this challenge is described in the following section 2, below.\n",
    "\n",
    "<br> **Interested Audience**\n",
    "I believe this is a relevant challenge with valid questions for anyone moving to other large city in US, EU or Asia. The same methodology can be applied in accordance to demands as applicable. This case is also applicable for anyone interested in exploring starting or locating a new business in any city. Lastly, it can also serve as a good practical exercise to develop Data Science skills."
   ]
  },
  {
   "cell_type": "markdown",
   "metadata": {},
   "source": [
    "## 2. Data Section:\n",
    "### Description of the data and its sources that will be used to solve the problem\n",
    "### 2.1 Data of current Situation"
   ]
  },
  {
   "cell_type": "markdown",
   "metadata": {},
   "source": [
    "I Currently reside in the neighborhood of Delhi, India. I use Foursquare to identify the venues around the area of residence which are then shown in the Delhi map shown in methodology and execution in next section. It serves as a reference for comparison with the desired future location in Manhattan NY\n",
    "\n",
    "### 2.2 Data Required to resolve the problem\n",
    "\n",
    "In order to make a good choice of a similar apartment in Manhattan NY, the following data is required:\n",
    "* List/Information on neighborhoods form Manhattan with their Geodata ( latitud and longitud).\n",
    "* List/Information about the subway metro stations in Manhattan with geodata.\n",
    "* Listed apartments for rent in Manhattan area with descriptions ( how many beds, price, location, address).\n",
    "* Venues and ammenities in the Manhattan neighborhoods\n",
    "\n",
    "### 2.3 sources and manipulation \n",
    "\n",
    "The list of Manhattan neighborhoods is worked out during LAb exercise during the course. A csv file was created which will be read in order to create a dataframe and its mapping. The csv file 'mh_neigh_data.csv' has the following below data structure. The file will be directly read to the Jupiter Notebook for convenience and space savings. The clustering of neighborhoods and mapping will be shown however. An algorythm was used to determine the geodata from Nominatim . The actual algorythm coding may be shown in 'markdown' mode becasues it takes time to run.\n",
    "\n",
    "mh_neigh_data.tail():\n",
    "\n",
    "          Borough    Neighborhood    Latitude    Longitude\n",
    "\n",
    "      35    Manhattan    Turtle Bay    40.752042    -73.967708\n",
    "\n",
    "      36    Manhattan    Tudor City    40.746917    -73.971219\n",
    "\n",
    "      37    Manhattan    Stuyvesant Town    40.731000    -73.974052\n",
    "\n",
    "      38    Manhattan    Flatiron    40.739673    -73.990947\n",
    "\n",
    "      39    Manhattan    Hudson Yards    40.756658    -74.000111\n",
    "\n",
    "A list of Manhattan subway metro stops was complied in Numbers and it was complemeted with wikipedia data\n",
    "( https://en.wikipedia.org/wiki/List_of_New_York_City_Subway_stations_in_Manhattan) \n",
    "and information from NY Transit authority and Google maps \n",
    "(https://www.google.com/maps/search/manhattan+subway+metro+stations/@40.7837297,-74.1033043,11z/data=!3m1!4b1) for a final consolidated list of subway stops names and their address. The geolocation was obtained via an algorythm using Nominatim. Details will be shown in the execution of methodolody in next section. The subway csv file is ''MH_subway.csv'\" and the data structure is: mhsub.tail(): sub_station sub_address lat long\n",
    "\n",
    "  17    190 Street Subway Station    Bennett Ave, New York, NY 10040, USA    40.858113    -73.932983\n",
    "\n",
    "  18    59 St-Lexington Av Station    E 60th St, New York, NY 10065, USA        40.762259    -73.966271\n",
    "\n",
    "  19    57 Street Station    New York, NY 10019, United States                40.764250    -73.954525\n",
    "\n",
    "  20    14 Street / 8 Av    New York, NY 10014, United States                40.730862    -73.987156\n",
    "\n",
    "  21    MTA New York City    525 11th Ave, New York, NY 10018, USA            40.759809    -73.999282\n",
    "  \n",
    "A list of places for rent was collected by web-browsing real estate companies in Manhattan : \n",
    "https://www.apartments.com/apartments/manhattan-ny/2-bedrooms/air-conditioning-parking/?so=2 \n",
    "A csv file was compiled with the rental place that indicated: areas of Manhattan, address, number of beds, area and monthly rental price. The csv file \"rent.csv\" had the following below structure. An algorithm was used to create all the geodata using Nominatim, as shown in next section. With the use of geolocator = Nominatim() , it was possible to determine the latitude and longiude for the subway metro locations as well as for the geodata for each rental place listed. The loop algorithms used are shown in the execution of data in next section \"Great_circle\" function from geolocator was used to calculate distances between two points , as in the case to calculate average rent price for units around each subway station and at 1.6 km radius. Foursquare is used to find the avenues at Manhattan neighborhoods in general and a cluster is created to later be able to search for the venues depending of the location shown.\n",
    "\n",
    "### 2.4 How the data will be used to solve the problem\n",
    "The data will be used as follows: Use Foursquare and geopy data to map top 10 venues for all Manhattan neighborhoods and clustered in groups. Used foursquare and geopy data to map the location of subway metro stations , separately and on top of the above clustered map in order to be able to identify the venues and ammenities near each metro station, or explore each subway location separately Use Foursquare and geopy data to map the location of rental places, in some form, linked to the subway locations. create a map that depicts, for instance, the average rental price per square ft, around a radious of 1.0 mile (1.6 km) around each subway station - or a similar metrics. I will be able to quickly point to the popups to know the relative price per subway area. Addresses from rental locations will be converted to geodata( lat, long) using Geopy-distance and Nominatim. Data will be searched in open data sources if available, from real estate sites if open to reading, libraries or other government agencies such as Metro New York MTA, etc.\n",
    "\n",
    "### 2.5 Mapping of Data\n",
    "The following maps were created to facilitate the analysis and the choice of the palace to live. Manhattan map of Neighborhoods manhattan subway metro locations Manhattan map of places for rent Manhattan map of clustered venues and neighborhoods Combined maps of Manhattan rent places with subway locations Combined maps of Manhattan rent places with subway locations and venues clusters"
   ]
  },
  {
   "cell_type": "markdown",
   "metadata": {},
   "source": [
    "## 3. Methodology section:\n",
    "This section represents the main component of the report where the data is gathered, prepared for analysis. The tools described are used here and the Notebook cells indicates the execution of steps\n",
    "\n",
    "### The analysis and the stragegy:\n",
    "\n",
    "The strategy is based on mapping the described data in the above section, in order to facilitate the choice of at least two candidate places for rent. The choice is made based on the demands imposed : location near a subway, rental price and similar venues to Delhi. This visual approach and maps with popups labels allow quick identification of location, price and feature, thus making the selection very easy.\n",
    "\n",
    "**The procesing of these DATA and its mapping will allow to answer the key questions to make a decision:**\n",
    "\n",
    "* what is the cost of available rental places that meet the demands?\n",
    "* what is the cost of rent around a mile radius from each subway metro station?\n",
    "* what is the area of Manhattan with best rental pricing that meets criteria established?\n",
    "* What is the distance from work place and the tentative future rental home?\n",
    "* What are the venues of the two best places to live? How the prices compare?\n",
    "* How venues distribute among Manhattan neighborhoods and around metro stations?\n",
    "* Are there tradeoffs between size and price and location?\n",
    "* Any other interesting statistical data findings of the real estate and overall data."
   ]
  },
  {
   "cell_type": "markdown",
   "metadata": {},
   "source": [
    "## METHODOLOY EXECUTION - Mapping Data\n",
    "\n",
    "Delhi Map - Current residence and venues in neighborhood for comparison to future Manhattan renting place"
   ]
  },
  {
   "cell_type": "code",
   "execution_count": 3,
   "metadata": {},
   "outputs": [
    {
     "name": "stdout",
     "output_type": "stream",
     "text": [
      "The geograpical coordinate of Delhi home are 28.5742819, 77.0653509.\n"
     ]
    },
    {
     "name": "stderr",
     "output_type": "stream",
     "text": [
      "/opt/conda/envs/Python36/lib/python3.6/site-packages/ipykernel/__main__.py:2: DeprecationWarning: Using Nominatim with the default \"geopy/1.18.1\" `user_agent` is strongly discouraged, as it violates Nominatim's ToS https://operations.osmfoundation.org/policies/nominatim/ and may possibly cause 403 and 429 HTTP errors. Please specify a custom `user_agent` with `Nominatim(user_agent=\"my-application\")` or by overriding the default `user_agent`: `geopy.geocoders.options.default_user_agent = \"my-application\"`. In geopy 2.0 this will become an exception.\n",
      "  from ipykernel import kernelapp as app\n"
     ]
    }
   ],
   "source": [
    "address = 'Dwarka, New Delhi, Delhi'\n",
    "geolocator = Nominatim()\n",
    "location = geolocator.geocode(address)\n",
    "neighborhood_latitude = location.latitude\n",
    "neighborhood_longitude = location.longitude\n",
    "print('The geograpical coordinate of Delhi home are {}, {}.'.format(neighborhood_latitude, neighborhood_longitude))"
   ]
  },
  {
   "cell_type": "code",
   "execution_count": 4,
   "metadata": {},
   "outputs": [],
   "source": [
    "CLIENT_ID = '4PZOFGH5R3CAX4MEZ12U22ELRIIKGP2GPJCU2AVIXAOHRPZD' # your Foursquare ID\n",
    "CLIENT_SECRET = 'FDH3PB3TPIMANVOEO0LCBOAXUM45ZVLZLB325GM1C3OBZ12C' # your Foursquare Secret\n",
    "VERSION = '20180604'\n",
    "LIMIT = 100 # limit of number of venues returned by Foursquare API\n",
    "radius = 2000 # define radius"
   ]
  },
  {
   "cell_type": "code",
   "execution_count": 6,
   "metadata": {},
   "outputs": [
    {
     "data": {
      "text/plain": [
       "'https://api.foursquare.com/v2/venues/explore?&client_id=4PZOFGH5R3CAX4MEZ12U22ELRIIKGP2GPJCU2AVIXAOHRPZD&client_secret=FDH3PB3TPIMANVOEO0LCBOAXUM45ZVLZLB325GM1C3OBZ12C&v=20180604&ll=28.5742819,77.0653509&radius=2000&limit=100'"
      ]
     },
     "execution_count": 6,
     "metadata": {},
     "output_type": "execute_result"
    }
   ],
   "source": [
    "url = 'https://api.foursquare.com/v2/venues/explore?&client_id={}&client_secret={}&v={}&ll={},{}&radius={}&limit={}'.format(\n",
    "    CLIENT_ID, \n",
    "    CLIENT_SECRET, \n",
    "    VERSION, \n",
    "    neighborhood_latitude, \n",
    "    neighborhood_longitude, \n",
    "    radius, \n",
    "    LIMIT)\n",
    "url # display URL"
   ]
  },
  {
   "cell_type": "code",
   "execution_count": 7,
   "metadata": {},
   "outputs": [],
   "source": [
    "results = requests.get(url).json()"
   ]
  },
  {
   "cell_type": "code",
   "execution_count": 8,
   "metadata": {},
   "outputs": [],
   "source": [
    "def get_category_type(row):\n",
    "    try:\n",
    "        categories_list = row['categories']\n",
    "    except:\n",
    "        categories_list = row['venue.categories']\n",
    "        \n",
    "    if len(categories_list) == 0:\n",
    "        return None\n",
    "    else:\n",
    "        return categories_list[0]['name']"
   ]
  },
  {
   "cell_type": "code",
   "execution_count": 9,
   "metadata": {},
   "outputs": [
    {
     "data": {
      "text/html": [
       "<div>\n",
       "<style scoped>\n",
       "    .dataframe tbody tr th:only-of-type {\n",
       "        vertical-align: middle;\n",
       "    }\n",
       "\n",
       "    .dataframe tbody tr th {\n",
       "        vertical-align: top;\n",
       "    }\n",
       "\n",
       "    .dataframe thead th {\n",
       "        text-align: right;\n",
       "    }\n",
       "</style>\n",
       "<table border=\"1\" class=\"dataframe\">\n",
       "  <thead>\n",
       "    <tr style=\"text-align: right;\">\n",
       "      <th></th>\n",
       "      <th>name</th>\n",
       "      <th>categories</th>\n",
       "      <th>lat</th>\n",
       "      <th>lng</th>\n",
       "    </tr>\n",
       "  </thead>\n",
       "  <tbody>\n",
       "    <tr>\n",
       "      <th>0</th>\n",
       "      <td>ITC Welcomhotel Dwarka</td>\n",
       "      <td>Hotel</td>\n",
       "      <td>28.579396</td>\n",
       "      <td>77.056092</td>\n",
       "    </tr>\n",
       "    <tr>\n",
       "      <th>1</th>\n",
       "      <td>Golds Gym</td>\n",
       "      <td>Gym</td>\n",
       "      <td>28.587997</td>\n",
       "      <td>77.071413</td>\n",
       "    </tr>\n",
       "    <tr>\n",
       "      <th>2</th>\n",
       "      <td>KFC</td>\n",
       "      <td>Fast Food Restaurant</td>\n",
       "      <td>28.574397</td>\n",
       "      <td>77.067321</td>\n",
       "    </tr>\n",
       "    <tr>\n",
       "      <th>3</th>\n",
       "      <td>Vivanta By Taj</td>\n",
       "      <td>Hotel</td>\n",
       "      <td>28.558228</td>\n",
       "      <td>77.062934</td>\n",
       "    </tr>\n",
       "    <tr>\n",
       "      <th>4</th>\n",
       "      <td>KFC</td>\n",
       "      <td>Fast Food Restaurant</td>\n",
       "      <td>28.584971</td>\n",
       "      <td>77.071396</td>\n",
       "    </tr>\n",
       "    <tr>\n",
       "      <th>5</th>\n",
       "      <td>Domino's Pizza</td>\n",
       "      <td>Pizza Place</td>\n",
       "      <td>28.564000</td>\n",
       "      <td>77.056000</td>\n",
       "    </tr>\n",
       "    <tr>\n",
       "      <th>6</th>\n",
       "      <td>KFC</td>\n",
       "      <td>Fast Food Restaurant</td>\n",
       "      <td>28.586942</td>\n",
       "      <td>77.060897</td>\n",
       "    </tr>\n",
       "    <tr>\n",
       "      <th>7</th>\n",
       "      <td>cafe coffee day</td>\n",
       "      <td>Coffee Shop</td>\n",
       "      <td>28.586974</td>\n",
       "      <td>77.060894</td>\n",
       "    </tr>\n",
       "    <tr>\n",
       "      <th>8</th>\n",
       "      <td>Pinnacle Mall</td>\n",
       "      <td>Shopping Mall</td>\n",
       "      <td>28.579480</td>\n",
       "      <td>77.056063</td>\n",
       "    </tr>\n",
       "    <tr>\n",
       "      <th>9</th>\n",
       "      <td>Banwari's Sweets</td>\n",
       "      <td>Food</td>\n",
       "      <td>28.581804</td>\n",
       "      <td>77.070205</td>\n",
       "    </tr>\n",
       "  </tbody>\n",
       "</table>\n",
       "</div>"
      ],
      "text/plain": [
       "                     name            categories        lat        lng\n",
       "0  ITC Welcomhotel Dwarka                 Hotel  28.579396  77.056092\n",
       "1               Golds Gym                   Gym  28.587997  77.071413\n",
       "2                     KFC  Fast Food Restaurant  28.574397  77.067321\n",
       "3          Vivanta By Taj                 Hotel  28.558228  77.062934\n",
       "4                     KFC  Fast Food Restaurant  28.584971  77.071396\n",
       "5          Domino's Pizza           Pizza Place  28.564000  77.056000\n",
       "6                     KFC  Fast Food Restaurant  28.586942  77.060897\n",
       "7         cafe coffee day           Coffee Shop  28.586974  77.060894\n",
       "8           Pinnacle Mall         Shopping Mall  28.579480  77.056063\n",
       "9        Banwari's Sweets                  Food  28.581804  77.070205"
      ]
     },
     "execution_count": 9,
     "metadata": {},
     "output_type": "execute_result"
    }
   ],
   "source": [
    "venues = results['response']['groups'][0]['items']\n",
    "    \n",
    "MYnearby_venues = json_normalize(venues) # flatten JSON\n",
    "\n",
    "# filter columns\n",
    "filtered_columns = ['venue.name', 'venue.categories', 'venue.location.lat', 'venue.location.lng']\n",
    "MYnearby_venues =MYnearby_venues.loc[:, filtered_columns]\n",
    "\n",
    "# filter the category for each row\n",
    "MYnearby_venues['venue.categories'] = MYnearby_venues.apply(get_category_type, axis=1)\n",
    "\n",
    "# clean columns\n",
    "MYnearby_venues.columns = [col.split(\".\")[-1] for col in MYnearby_venues.columns]\n",
    "\n",
    "MYnearby_venues[0:10]"
   ]
  },
  {
   "cell_type": "markdown",
   "metadata": {},
   "source": [
    "## Map of Delhi"
   ]
  },
  {
   "cell_type": "code",
   "execution_count": 11,
   "metadata": {},
   "outputs": [
    {
     "data": {
      "text/html": [
       "<div style=\"width:100%;\"><div style=\"position:relative;width:100%;height:0;padding-bottom:60%;\"><iframe src=\"data:text/html;charset=utf-8;base64,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\" style=\"position:absolute;width:100%;height:100%;left:0;top:0;border:none !important;\" allowfullscreen webkitallowfullscreen mozallowfullscreen></iframe></div></div>"
      ],
      "text/plain": [
       "<folium.folium.Map at 0x7fbdeb32cac8>"
      ]
     },
     "execution_count": 11,
     "metadata": {},
     "output_type": "execute_result"
    }
   ],
   "source": [
    "map_dl = folium.Map(location=[neighborhood_latitude, neighborhood_longitude], zoom_start=11)\n",
    "\n",
    "# add markers to map\n",
    "for lat, lng, label in zip(MYnearby_venues['lat'], MYnearby_venues['lng'], MYnearby_venues['name']):\n",
    "    label = folium.Popup(label, parse_html=True)\n",
    "    folium.RegularPolygonMarker(\n",
    "        [lat, lng],\n",
    "        number_of_sides=4,\n",
    "        radius=10,\n",
    "        popup=label,\n",
    "        color='blue',\n",
    "        fill_color='#0f0f0f',\n",
    "        fill_opacity=0.7,\n",
    "    ).add_to(map_dl)  \n",
    "    \n",
    "map_dl"
   ]
  },
  {
   "cell_type": "markdown",
   "metadata": {},
   "source": [
    "## MANHATTAN NEIGHBORHOODS - DATA AND MAPPING\n",
    "Cluster neighborhood data was produced with Foursquare during course lab work. A csv file was produced containing the neighborhoods around the 40 Boroughs. Now, the csv file is just read for convenience and consolidation of report."
   ]
  },
  {
   "cell_type": "code",
   "execution_count": 78,
   "metadata": {},
   "outputs": [],
   "source": [
    "!wget -q -O 'newyork_data.json' https://cocl.us/new_york_dataset\n",
    "with open('newyork_data.json') as json_data:\n",
    "    newyork_data = json.load(json_data)"
   ]
  },
  {
   "cell_type": "code",
   "execution_count": 79,
   "metadata": {},
   "outputs": [],
   "source": [
    "neighborhoods_data = newyork_data['features']"
   ]
  },
  {
   "cell_type": "code",
   "execution_count": 80,
   "metadata": {},
   "outputs": [],
   "source": [
    "column_names = ['Borough', 'Neighborhood', 'Latitude', 'Longitude'] \n",
    "neighborhoods = pd.DataFrame(columns=column_names)"
   ]
  },
  {
   "cell_type": "code",
   "execution_count": 81,
   "metadata": {},
   "outputs": [
    {
     "data": {
      "text/html": [
       "<div>\n",
       "<style scoped>\n",
       "    .dataframe tbody tr th:only-of-type {\n",
       "        vertical-align: middle;\n",
       "    }\n",
       "\n",
       "    .dataframe tbody tr th {\n",
       "        vertical-align: top;\n",
       "    }\n",
       "\n",
       "    .dataframe thead th {\n",
       "        text-align: right;\n",
       "    }\n",
       "</style>\n",
       "<table border=\"1\" class=\"dataframe\">\n",
       "  <thead>\n",
       "    <tr style=\"text-align: right;\">\n",
       "      <th></th>\n",
       "      <th>Borough</th>\n",
       "      <th>Neighborhood</th>\n",
       "      <th>Latitude</th>\n",
       "      <th>Longitude</th>\n",
       "    </tr>\n",
       "  </thead>\n",
       "  <tbody>\n",
       "  </tbody>\n",
       "</table>\n",
       "</div>"
      ],
      "text/plain": [
       "Empty DataFrame\n",
       "Columns: [Borough, Neighborhood, Latitude, Longitude]\n",
       "Index: []"
      ]
     },
     "execution_count": 81,
     "metadata": {},
     "output_type": "execute_result"
    }
   ],
   "source": [
    "neighborhoods"
   ]
  },
  {
   "cell_type": "code",
   "execution_count": 82,
   "metadata": {},
   "outputs": [],
   "source": [
    "for data in neighborhoods_data:\n",
    "    borough = neighborhood_name = data['properties']['borough'] \n",
    "    neighborhood_name = data['properties']['name']\n",
    "        \n",
    "    neighborhood_latlon = data['geometry']['coordinates']\n",
    "    neighborhood_lat = neighborhood_latlon[1]\n",
    "    neighborhood_lon = neighborhood_latlon[0]\n",
    "    \n",
    "    neighborhoods = neighborhoods.append({'Borough': borough,\n",
    "                                          'Neighborhood': neighborhood_name,\n",
    "                                          'Latitude': neighborhood_lat,\n",
    "                                          'Longitude': neighborhood_lon}, ignore_index=True)"
   ]
  },
  {
   "cell_type": "code",
   "execution_count": 83,
   "metadata": {},
   "outputs": [
    {
     "name": "stdout",
     "output_type": "stream",
     "text": [
      "The dataframe has 5 boroughs and 306 neighborhoods.\n"
     ]
    }
   ],
   "source": [
    "print('The dataframe has {} boroughs and {} neighborhoods.'.format(\n",
    "        len(neighborhoods['Borough'].unique()),\n",
    "        neighborhoods.shape[0]\n",
    "    )\n",
    ")"
   ]
  },
  {
   "cell_type": "code",
   "execution_count": 84,
   "metadata": {},
   "outputs": [
    {
     "name": "stdout",
     "output_type": "stream",
     "text": [
      "The geograpical coordinate of New York City are 40.7127281, -74.0060152.\n"
     ]
    }
   ],
   "source": [
    "newaddress = 'New York City, NY'\n",
    "\n",
    "geolocator = Nominatim(user_agent=\"ny_explorer\")\n",
    "location = geolocator.geocode(newaddress)\n",
    "latitude = location.latitude\n",
    "longitude = location.longitude\n",
    "print('The geograpical coordinate of New York City are {}, {}.'.format(latitude, longitude))"
   ]
  },
  {
   "cell_type": "markdown",
   "metadata": {},
   "source": [
    "#### Manhattan Data"
   ]
  },
  {
   "cell_type": "code",
   "execution_count": 85,
   "metadata": {},
   "outputs": [
    {
     "data": {
      "text/html": [
       "<div>\n",
       "<style scoped>\n",
       "    .dataframe tbody tr th:only-of-type {\n",
       "        vertical-align: middle;\n",
       "    }\n",
       "\n",
       "    .dataframe tbody tr th {\n",
       "        vertical-align: top;\n",
       "    }\n",
       "\n",
       "    .dataframe thead th {\n",
       "        text-align: right;\n",
       "    }\n",
       "</style>\n",
       "<table border=\"1\" class=\"dataframe\">\n",
       "  <thead>\n",
       "    <tr style=\"text-align: right;\">\n",
       "      <th></th>\n",
       "      <th>Borough</th>\n",
       "      <th>Neighborhood</th>\n",
       "      <th>Latitude</th>\n",
       "      <th>Longitude</th>\n",
       "    </tr>\n",
       "  </thead>\n",
       "  <tbody>\n",
       "    <tr>\n",
       "      <th>0</th>\n",
       "      <td>Manhattan</td>\n",
       "      <td>Marble Hill</td>\n",
       "      <td>40.876551</td>\n",
       "      <td>-73.910660</td>\n",
       "    </tr>\n",
       "    <tr>\n",
       "      <th>1</th>\n",
       "      <td>Manhattan</td>\n",
       "      <td>Chinatown</td>\n",
       "      <td>40.715618</td>\n",
       "      <td>-73.994279</td>\n",
       "    </tr>\n",
       "    <tr>\n",
       "      <th>2</th>\n",
       "      <td>Manhattan</td>\n",
       "      <td>Washington Heights</td>\n",
       "      <td>40.851903</td>\n",
       "      <td>-73.936900</td>\n",
       "    </tr>\n",
       "    <tr>\n",
       "      <th>3</th>\n",
       "      <td>Manhattan</td>\n",
       "      <td>Inwood</td>\n",
       "      <td>40.867684</td>\n",
       "      <td>-73.921210</td>\n",
       "    </tr>\n",
       "    <tr>\n",
       "      <th>4</th>\n",
       "      <td>Manhattan</td>\n",
       "      <td>Hamilton Heights</td>\n",
       "      <td>40.823604</td>\n",
       "      <td>-73.949688</td>\n",
       "    </tr>\n",
       "  </tbody>\n",
       "</table>\n",
       "</div>"
      ],
      "text/plain": [
       "     Borough        Neighborhood   Latitude  Longitude\n",
       "0  Manhattan         Marble Hill  40.876551 -73.910660\n",
       "1  Manhattan           Chinatown  40.715618 -73.994279\n",
       "2  Manhattan  Washington Heights  40.851903 -73.936900\n",
       "3  Manhattan              Inwood  40.867684 -73.921210\n",
       "4  Manhattan    Hamilton Heights  40.823604 -73.949688"
      ]
     },
     "execution_count": 85,
     "metadata": {},
     "output_type": "execute_result"
    }
   ],
   "source": [
    "manhattan_data = neighborhoods[neighborhoods['Borough'] == 'Manhattan'].reset_index(drop=True)\n",
    "manhattan_data.head()"
   ]
  },
  {
   "cell_type": "code",
   "execution_count": 86,
   "metadata": {},
   "outputs": [
    {
     "name": "stdout",
     "output_type": "stream",
     "text": [
      "The geograpical coordinate of Manhattan are 40.7896239, -73.9598939.\n"
     ]
    }
   ],
   "source": [
    "mhaddress = 'Manhattan, NY'\n",
    "\n",
    "geolocator = Nominatim(user_agent=\"ny_explorer\")\n",
    "location = geolocator.geocode(mhaddress)\n",
    "Latitude = location.latitude\n",
    "Longitude = location.longitude\n",
    "print('The geograpical coordinate of Manhattan are {}, {}.'.format(Latitude, Longitude))"
   ]
  },
  {
   "cell_type": "code",
   "execution_count": 93,
   "metadata": {},
   "outputs": [
    {
     "ename": "NameError",
     "evalue": "name 'manhattan_merged' is not defined",
     "output_type": "error",
     "traceback": [
      "\u001b[0;31m---------------------------------------------------------------------------\u001b[0m",
      "\u001b[0;31mNameError\u001b[0m                                 Traceback (most recent call last)",
      "\u001b[0;32m<ipython-input-93-c0a791ea0642>\u001b[0m in \u001b[0;36m<module>\u001b[0;34m\u001b[0m\n\u001b[1;32m     14\u001b[0m \u001b[0;31m# add markers to the map\u001b[0m\u001b[0;34m\u001b[0m\u001b[0;34m\u001b[0m\u001b[0;34m\u001b[0m\u001b[0m\n\u001b[1;32m     15\u001b[0m \u001b[0mmarkers_colors\u001b[0m \u001b[0;34m=\u001b[0m \u001b[0;34m[\u001b[0m\u001b[0;34m]\u001b[0m\u001b[0;34m\u001b[0m\u001b[0;34m\u001b[0m\u001b[0m\n\u001b[0;32m---> 16\u001b[0;31m \u001b[0;32mfor\u001b[0m \u001b[0mlat\u001b[0m\u001b[0;34m,\u001b[0m \u001b[0mlon\u001b[0m\u001b[0;34m,\u001b[0m \u001b[0mpoi\u001b[0m\u001b[0;34m,\u001b[0m \u001b[0mcluster\u001b[0m \u001b[0;32min\u001b[0m \u001b[0mzip\u001b[0m\u001b[0;34m(\u001b[0m\u001b[0mmanhattan_merged\u001b[0m\u001b[0;34m[\u001b[0m\u001b[0;34m'Latitude'\u001b[0m\u001b[0;34m]\u001b[0m\u001b[0;34m,\u001b[0m \u001b[0mmanhattan_merged\u001b[0m\u001b[0;34m[\u001b[0m\u001b[0;34m'Longitude'\u001b[0m\u001b[0;34m]\u001b[0m\u001b[0;34m,\u001b[0m \u001b[0mmanhattan_merged\u001b[0m\u001b[0;34m[\u001b[0m\u001b[0;34m'Neighborhood'\u001b[0m\u001b[0;34m]\u001b[0m\u001b[0;34m,\u001b[0m \u001b[0mmanhattan_merged\u001b[0m\u001b[0;34m[\u001b[0m\u001b[0;34m'Cluster Labels'\u001b[0m\u001b[0;34m]\u001b[0m\u001b[0;34m)\u001b[0m\u001b[0;34m:\u001b[0m\u001b[0;34m\u001b[0m\u001b[0;34m\u001b[0m\u001b[0m\n\u001b[0m\u001b[1;32m     17\u001b[0m     \u001b[0mlabel\u001b[0m \u001b[0;34m=\u001b[0m \u001b[0mfolium\u001b[0m\u001b[0;34m.\u001b[0m\u001b[0mPopup\u001b[0m\u001b[0;34m(\u001b[0m\u001b[0mstr\u001b[0m\u001b[0;34m(\u001b[0m\u001b[0mpoi\u001b[0m\u001b[0;34m)\u001b[0m \u001b[0;34m+\u001b[0m \u001b[0;34m' Cluster '\u001b[0m \u001b[0;34m+\u001b[0m \u001b[0mstr\u001b[0m\u001b[0;34m(\u001b[0m\u001b[0mcluster\u001b[0m\u001b[0;34m)\u001b[0m\u001b[0;34m,\u001b[0m \u001b[0mparse_html\u001b[0m\u001b[0;34m=\u001b[0m\u001b[0;32mTrue\u001b[0m\u001b[0;34m)\u001b[0m\u001b[0;34m\u001b[0m\u001b[0;34m\u001b[0m\u001b[0m\n\u001b[1;32m     18\u001b[0m     folium.CircleMarker(\n",
      "\u001b[0;31mNameError\u001b[0m: name 'manhattan_merged' is not defined"
     ]
    }
   ],
   "source": [
    "# create map of Manhattan using latitude and longitude values from Nominatim\n",
    "latitude= 40.7308619\n",
    "longitude= -73.9871558 \n",
    "\n",
    "kclusters=5\n",
    "map_clusters = folium.Map(location=[latitude, longitude], zoom_start=13)\n",
    "\n",
    "# set color scheme for the clusters\n",
    "x = np.arange(kclusters)\n",
    "ys = [i+x+(i*x)**2 for i in range(kclusters)]\n",
    "colors_array = cm.rainbow(np.linspace(0, 1, len(ys)))\n",
    "rainbow = [colors.rgb2hex(i) for i in colors_array]\n",
    "\n",
    "# add markers to the map\n",
    "markers_colors = []\n",
    "for lat, lon, poi, cluster in zip(manhattan_data['Latitude'], manhattan_data['Longitude'], manhattan_merged['Neighborhood'], manhattan_merged['Cluster Labels']):\n",
    "    label = folium.Popup(str(poi) + ' Cluster ' + str(cluster), parse_html=True)\n",
    "    folium.CircleMarker(\n",
    "        [lat, lon],\n",
    "        radius=20,\n",
    "        popup=label,\n",
    "        color=rainbow[cluster-1],\n",
    "        fill=True,\n",
    "        fill_color=rainbow[cluster-1],\n",
    "        fill_opacity=0.7).add_to(map_clusters)\n",
    "  # add markers for rental places to map\n",
    "for lat, lng, label in zip(manhattan_data['Latitude'], manhattan_data['Longitude'], manhattan_data['Neighborhood']):\n",
    "    label = folium.Popup(label, parse_html=True)\n",
    "    folium.CircleMarker(\n",
    "        [lat, lng],\n",
    "        radius=5,\n",
    "        popup=label,\n",
    "        color='blue',\n",
    "        fill=True,\n",
    "        fill_color='#3186cc',\n",
    "        fill_opacity=0.7,\n",
    "        parse_html=False).add_to(map_clusters)    \n",
    "    \n",
    "       \n",
    "map_clusters"
   ]
  },
  {
   "cell_type": "code",
   "execution_count": null,
   "metadata": {},
   "outputs": [],
   "source": []
  }
 ],
 "metadata": {
  "kernelspec": {
   "display_name": "Python 3.6",
   "language": "python",
   "name": "python3"
  },
  "language_info": {
   "codemirror_mode": {
    "name": "ipython",
    "version": 3
   },
   "file_extension": ".py",
   "mimetype": "text/x-python",
   "name": "python",
   "nbconvert_exporter": "python",
   "pygments_lexer": "ipython3",
   "version": "3.6.8"
  }
 },
 "nbformat": 4,
 "nbformat_minor": 1
}
