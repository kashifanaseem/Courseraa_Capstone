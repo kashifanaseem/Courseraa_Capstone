{
 "cells": [
  {
   "cell_type": "markdown",
   "metadata": {
    "collapsed": true
   },
   "source": [
    "# Coursera_Capstone_Project\n",
    "## The Battle of Neighborhoods (Week 1)\n",
    "~KASHIFA NASEEM: Introduction and Data Sections"
   ]
  },
  {
   "cell_type": "code",
   "execution_count": 1,
   "metadata": {},
   "outputs": [
    {
     "name": "stdout",
     "output_type": "stream",
     "text": [
      "Solving environment: done\n",
      "\n",
      "## Package Plan ##\n",
      "\n",
      "  environment location: /opt/conda/envs/Python36\n",
      "\n",
      "  added / updated specs: \n",
      "    - folium=0.5.0\n",
      "\n",
      "\n",
      "The following packages will be downloaded:\n",
      "\n",
      "    package                    |            build\n",
      "    ---------------------------|-----------------\n",
      "    ca-certificates-2019.9.11  |       hecc5488_0         144 KB  conda-forge\n",
      "    branca-0.3.1               |             py_0          25 KB  conda-forge\n",
      "    folium-0.5.0               |             py_0          45 KB  conda-forge\n",
      "    altair-3.2.0               |           py36_0         770 KB  conda-forge\n",
      "    vincent-0.4.4              |             py_1          28 KB  conda-forge\n",
      "    openssl-1.1.1c             |       h516909a_0         2.1 MB  conda-forge\n",
      "    certifi-2019.9.11          |           py36_0         147 KB  conda-forge\n",
      "    ------------------------------------------------------------\n",
      "                                           Total:         3.3 MB\n",
      "\n",
      "The following NEW packages will be INSTALLED:\n",
      "\n",
      "    altair:          3.2.0-py36_0      conda-forge\n",
      "    branca:          0.3.1-py_0        conda-forge\n",
      "    folium:          0.5.0-py_0        conda-forge\n",
      "    vincent:         0.4.4-py_1        conda-forge\n",
      "\n",
      "The following packages will be UPDATED:\n",
      "\n",
      "    ca-certificates: 2019.8.28-0                   --> 2019.9.11-hecc5488_0 conda-forge\n",
      "    certifi:         2019.9.11-py36_0              --> 2019.9.11-py36_0     conda-forge\n",
      "\n",
      "The following packages will be DOWNGRADED:\n",
      "\n",
      "    openssl:         1.1.1d-h7b6447c_2             --> 1.1.1c-h516909a_0    conda-forge\n",
      "\n",
      "\n",
      "Downloading and Extracting Packages\n",
      "ca-certificates-2019 | 144 KB    | ##################################### | 100% \n",
      "branca-0.3.1         | 25 KB     | ##################################### | 100% \n",
      "folium-0.5.0         | 45 KB     | ##################################### | 100% \n",
      "altair-3.2.0         | 770 KB    | ##################################### | 100% \n",
      "vincent-0.4.4        | 28 KB     | ##################################### | 100% \n",
      "openssl-1.1.1c       | 2.1 MB    | ##################################### | 100% \n",
      "certifi-2019.9.11    | 147 KB    | ##################################### | 100% \n",
      "Preparing transaction: done\n",
      "Verifying transaction: done\n",
      "Executing transaction: done\n",
      "Libraries imported.\n"
     ]
    }
   ],
   "source": [
    "import numpy as np # library to handle data in a vectorized manner\n",
    "import time\n",
    "import pandas as pd # library for data analsysis\n",
    "pd.set_option('display.max_columns', None)\n",
    "pd.set_option('display.max_rows', None)\n",
    "\n",
    "import json # library to handle JSON files\n",
    "import requests # library to handle requests\n",
    "from pandas.io.json import json_normalize # tranform JSON file into a pandas dataframe\n",
    "\n",
    "from geopy.geocoders import Nominatim # convert an address into latitude and longitude values\n",
    "!conda install -c conda-forge folium=0.5.0 --yes # uncomment this line if you haven't completed the Foursquare API lab\n",
    "import folium # map rendering library\n",
    "\n",
    "print('Libraries imported.')"
   ]
  },
  {
   "cell_type": "markdown",
   "metadata": {},
   "source": [
    "**Battle of neighborhood** - REPORT CONTENT\n",
    "1. Introduction Section : ⁃ Discussion of the business problem and the interested audience in this project.\n",
    "2. Data Section: ⁃ Description of the data that will be used to solve the problem and the sources.\n",
    "3. Methodology section ⁃ Discussion and description of exploratory data analysis carried out, any inferential statistical testing performed, and if any machine learnings were used establishing the strategy and purposes.\n",
    "4. Results section ⁃ Discussion of the results.\n",
    "5. Discussion section ⁃ Elaboration and discussion on any observations noted and any recommendations suggested based on the results.\n",
    "6. Conclusion section ⁃ Report Conclusion."
   ]
  },
  {
   "cell_type": "markdown",
   "metadata": {},
   "source": [
    "## 1. Introduction Section :\n",
    "## Discussion of the business problem and the audience who would be interested in this project.\n",
    "### Description of the Problem and Background"
   ]
  },
  {
   "cell_type": "markdown",
   "metadata": {},
   "source": [
    "**Scenario:**\n",
    "I am presently living in Delhi, India within walking distance to metro station and enjoy many ammenities and venues in the area, such as various restaurants, cafes, food shops and entertainment now have to relocate to Manhattan, NY to work in a leading firm as a new opportunity. I am very excited for this opportunity, and need to search a place to live according to my needs. There are some question I need to resolve before I move to Manhattan. The key question is : to find a place similar to mine now in Delhi. In order to make a comparison and evaluation of the rental options in Manhattan NY, I must set some basis, therefore the apartment in Manhattan must meet the following demands:\n",
    "\n",
    "apartment must be of 2 or 3 bedrooms\n",
    "desired location is near a metro station in the Manhattan area and within 1.0 mile (1.6 km) radius\n",
    "price of rent not exceed $7,000 per month\n",
    "top ammenities in the selected neighborhood shall be similar to current residence\n",
    "desirable to have venues such as coffee shops, restaurants Indians, gym and food shops\n",
    "as a reference, I have included a map of venues near current residence in Delhi.\n",
    "\n",
    "<br> **Business Problem:**\n",
    "The challenge is to find a suitable apartment for rent in Manhattan NY that complies with the demands on location, price and venues. The data required to resolve this challenge is described in the following section 2, below.\n",
    "\n",
    "<br> **Interested Audience**\n",
    "I believe this is a relevant challenge with valid questions for anyone moving to other large city in US, EU or Asia. The same methodology can be applied in accordance to demands as applicable. This case is also applicable for anyone interested in exploring starting or locating a new business in any city. Lastly, it can also serve as a good practical exercise to develop Data Science skills."
   ]
  },
  {
   "cell_type": "markdown",
   "metadata": {},
   "source": [
    "## 2. Data Section:\n",
    "### Description of the data and its sources that will be used to solve the problem\n",
    "### Description of the Data:"
   ]
  },
  {
   "cell_type": "markdown",
   "metadata": {},
   "source": [
    "The following data is required to answer the issues of the problem:\n",
    "\n",
    "1. List of Boroughs and neighborhoods of Manhattan with their geodata (latitude and longitude)\n",
    "2. List of Subway metro stations in Manhattan with their address location\n",
    "3. List of apartments for rent in Manhattan area with their addresses and price\n",
    "4. Preferably, a list of apartment for rent with additional information, such as price, address, area, no. of bedrooms, etc\n",
    "5. Venues for each Manhattan neighborhood ( than can be clustered)\n",
    "6. Venues for subway metro stations, as needed"
   ]
  },
  {
   "cell_type": "markdown",
   "metadata": {},
   "source": [
    "## How the data will be used to solve the problem"
   ]
  },
  {
   "cell_type": "markdown",
   "metadata": {},
   "source": [
    "**The data will be used as follows:**\n",
    "\n",
    "1. Use Foursquare and geopy data to map top 10 venues for all Manhattan neighborhoods and clustered in groups\n",
    "2. Use foursquare and geopy data to map the location of subway metro stations, separately and on top of the above clustered map in order to be able to identify the venues and ammenities near each metro station, or explore each subway location separately\n",
    "3. Use Foursquare and geopy data to map the location of rental places, in some form, linked to the subway locations.\n",
    "4. create a map that depicts, for instance, the average rental price per square ft, around a radious of 1.0 mile (1.6 km) around each subway station - or a similar metrics. I will be able to quickly point to the popups to know the relative price per subway area.\n",
    "5. Addresses from rental locations will be converted to geodata( lat, long) using Geopy-distance and Nominatim.\n",
    "6. Data will be searched in open data sources if available, from real estate sites if open to reading, libraries or other government agencies such as Metro New York MTA, etc.\n",
    "\n",
    "<br> **The procesing of these DATA will allow to answer the key questions to make a decision:**\n",
    "\n",
    "what is the cost of rent (per square ft) around a mile radius from each subway metro station?\n",
    "what is the area of Manhattan with best rental pricing that meets criteria established?\n",
    "What is the distance from work place ( Park Ave and 53 rd St) and the tentative future home?\n",
    "What are the venues of the two best places to live? How the prices compare?\n",
    "How venues distribute among Manhattan neighborhoods and around metro stations?\n",
    "Are there tradeoffs between size and price and location?\n",
    "Any other interesting statistical data findings of the real estate and overall data."
   ]
  },
  {
   "cell_type": "code",
   "execution_count": 9,
   "metadata": {},
   "outputs": [
    {
     "name": "stdout",
     "output_type": "stream",
     "text": [
      "The geograpical coordinate of Delhi are 28.5742819, 77.0653509.\n"
     ]
    },
    {
     "name": "stderr",
     "output_type": "stream",
     "text": [
      "/opt/conda/envs/Python36/lib/python3.6/site-packages/ipykernel/__main__.py:3: DeprecationWarning: Using Nominatim with the default \"geopy/1.18.1\" `user_agent` is strongly discouraged, as it violates Nominatim's ToS https://operations.osmfoundation.org/policies/nominatim/ and may possibly cause 403 and 429 HTTP errors. Please specify a custom `user_agent` with `Nominatim(user_agent=\"my-application\")` or by overriding the default `user_agent`: `geopy.geocoders.options.default_user_agent = \"my-application\"`. In geopy 2.0 this will become an exception.\n",
      "  app.launch_new_instance()\n"
     ]
    }
   ],
   "source": [
    "address = 'Dwarka, New Delhi, Delhi'\n",
    "\n",
    "geolocator = Nominatim()\n",
    "location = geolocator.geocode(address)\n",
    "neighborhood_latitude = location.latitude\n",
    "neighborhood_longitude = location.longitude\n",
    "print('The geograpical coordinate of Delhi are {}, {}.'.format(neighborhood_latitude, neighborhood_longitude))"
   ]
  },
  {
   "cell_type": "code",
   "execution_count": 35,
   "metadata": {},
   "outputs": [],
   "source": [
    "CLIENT_ID = '4PZOFGHxxxxHRPZD' # your Foursquare ID\n",
    "CLIENT_SECRET = 'FDH3PB3TyyyyyyC3OBZ12C' # your Foursquare Secret\n",
    "VERSION = '20180604'\n",
    "LIMIT = 100 # limit of number of venues returned by Foursquare API\n",
    "radius = 2000 # define radius"
   ]
  },
  {
   "cell_type": "code",
   "execution_count": 27,
   "metadata": {},
   "outputs": [
    {
     "data": {
      "text/plain": [
       "'https://api.foursquare.com/v2/venues/explore?&client_id=4PZOFGH5R3CAX4MEZ12U22ELRIIKGP2GPJCU2AVIXAOHRPZD&client_secret=FDH3PB3TPIMANVOEO0LCBOAXUM45ZVLZLB325GM1C3OBZ12C&v=20180604&ll=28.5742819,77.0653509&radius=2000&limit=100'"
      ]
     },
     "execution_count": 27,
     "metadata": {},
     "output_type": "execute_result"
    }
   ],
   "source": [
    "url = 'https://api.foursquare.com/v2/venues/explore?&client_id={}&client_secret={}&v={}&ll={},{}&radius={}&limit={}'.format(\n",
    "    CLIENT_ID, \n",
    "    CLIENT_SECRET, \n",
    "    VERSION, \n",
    "    neighborhood_latitude, \n",
    "    neighborhood_longitude, \n",
    "    radius, \n",
    "    LIMIT)\n",
    "url # display URL"
   ]
  },
  {
   "cell_type": "code",
   "execution_count": 28,
   "metadata": {},
   "outputs": [],
   "source": [
    "results = requests.get(url).json()"
   ]
  },
  {
   "cell_type": "code",
   "execution_count": 25,
   "metadata": {},
   "outputs": [],
   "source": [
    "def get_category_type(row):\n",
    "    try:\n",
    "        categories_list = row['categories']\n",
    "    except:\n",
    "        categories_list = row['venue.categories']\n",
    "        \n",
    "    if len(categories_list) == 0:\n",
    "        return None\n",
    "    else:\n",
    "        return categories_list[0]['name']"
   ]
  },
  {
   "cell_type": "code",
   "execution_count": 32,
   "metadata": {},
   "outputs": [
    {
     "data": {
      "text/html": [
       "<div>\n",
       "<style scoped>\n",
       "    .dataframe tbody tr th:only-of-type {\n",
       "        vertical-align: middle;\n",
       "    }\n",
       "\n",
       "    .dataframe tbody tr th {\n",
       "        vertical-align: top;\n",
       "    }\n",
       "\n",
       "    .dataframe thead th {\n",
       "        text-align: right;\n",
       "    }\n",
       "</style>\n",
       "<table border=\"1\" class=\"dataframe\">\n",
       "  <thead>\n",
       "    <tr style=\"text-align: right;\">\n",
       "      <th></th>\n",
       "      <th>name</th>\n",
       "      <th>categories</th>\n",
       "      <th>lat</th>\n",
       "      <th>lng</th>\n",
       "    </tr>\n",
       "  </thead>\n",
       "  <tbody>\n",
       "    <tr>\n",
       "      <th>0</th>\n",
       "      <td>ITC Welcomhotel Dwarka</td>\n",
       "      <td>Hotel</td>\n",
       "      <td>28.579396</td>\n",
       "      <td>77.056092</td>\n",
       "    </tr>\n",
       "    <tr>\n",
       "      <th>1</th>\n",
       "      <td>Golds Gym</td>\n",
       "      <td>Gym</td>\n",
       "      <td>28.587997</td>\n",
       "      <td>77.071413</td>\n",
       "    </tr>\n",
       "    <tr>\n",
       "      <th>2</th>\n",
       "      <td>KFC</td>\n",
       "      <td>Fast Food Restaurant</td>\n",
       "      <td>28.574397</td>\n",
       "      <td>77.067321</td>\n",
       "    </tr>\n",
       "    <tr>\n",
       "      <th>3</th>\n",
       "      <td>Vivanta By Taj</td>\n",
       "      <td>Hotel</td>\n",
       "      <td>28.558228</td>\n",
       "      <td>77.062934</td>\n",
       "    </tr>\n",
       "    <tr>\n",
       "      <th>4</th>\n",
       "      <td>KFC</td>\n",
       "      <td>Fast Food Restaurant</td>\n",
       "      <td>28.584971</td>\n",
       "      <td>77.071396</td>\n",
       "    </tr>\n",
       "    <tr>\n",
       "      <th>5</th>\n",
       "      <td>Domino's Pizza</td>\n",
       "      <td>Pizza Place</td>\n",
       "      <td>28.564000</td>\n",
       "      <td>77.056000</td>\n",
       "    </tr>\n",
       "    <tr>\n",
       "      <th>6</th>\n",
       "      <td>KFC</td>\n",
       "      <td>Fast Food Restaurant</td>\n",
       "      <td>28.586942</td>\n",
       "      <td>77.060897</td>\n",
       "    </tr>\n",
       "    <tr>\n",
       "      <th>7</th>\n",
       "      <td>cafe coffee day</td>\n",
       "      <td>Coffee Shop</td>\n",
       "      <td>28.586974</td>\n",
       "      <td>77.060894</td>\n",
       "    </tr>\n",
       "    <tr>\n",
       "      <th>8</th>\n",
       "      <td>Pinnacle Mall</td>\n",
       "      <td>Shopping Mall</td>\n",
       "      <td>28.579480</td>\n",
       "      <td>77.056063</td>\n",
       "    </tr>\n",
       "    <tr>\n",
       "      <th>9</th>\n",
       "      <td>Banwari's Sweets</td>\n",
       "      <td>Food</td>\n",
       "      <td>28.581804</td>\n",
       "      <td>77.070205</td>\n",
       "    </tr>\n",
       "  </tbody>\n",
       "</table>\n",
       "</div>"
      ],
      "text/plain": [
       "                     name            categories        lat        lng\n",
       "0  ITC Welcomhotel Dwarka                 Hotel  28.579396  77.056092\n",
       "1               Golds Gym                   Gym  28.587997  77.071413\n",
       "2                     KFC  Fast Food Restaurant  28.574397  77.067321\n",
       "3          Vivanta By Taj                 Hotel  28.558228  77.062934\n",
       "4                     KFC  Fast Food Restaurant  28.584971  77.071396\n",
       "5          Domino's Pizza           Pizza Place  28.564000  77.056000\n",
       "6                     KFC  Fast Food Restaurant  28.586942  77.060897\n",
       "7         cafe coffee day           Coffee Shop  28.586974  77.060894\n",
       "8           Pinnacle Mall         Shopping Mall  28.579480  77.056063\n",
       "9        Banwari's Sweets                  Food  28.581804  77.070205"
      ]
     },
     "execution_count": 32,
     "metadata": {},
     "output_type": "execute_result"
    }
   ],
   "source": [
    "venues = results['response']['groups'][0]['items']\n",
    "    \n",
    "MYnearby_venues = json_normalize(venues) # flatten JSON\n",
    "\n",
    "# filter columns\n",
    "filtered_columns = ['venue.name', 'venue.categories', 'venue.location.lat', 'venue.location.lng']\n",
    "MYnearby_venues =MYnearby_venues.loc[:, filtered_columns]\n",
    "\n",
    "# filter the category for each row\n",
    "MYnearby_venues['venue.categories'] = MYnearby_venues.apply(get_category_type, axis=1)\n",
    "\n",
    "# clean columns\n",
    "MYnearby_venues.columns = [col.split(\".\")[-1] for col in MYnearby_venues.columns]\n",
    "\n",
    "MYnearby_venues[0:10]"
   ]
  },
  {
   "cell_type": "markdown",
   "metadata": {},
   "source": [
    "## Map of Delhi"
   ]
  },
  {
   "cell_type": "code",
   "execution_count": 34,
   "metadata": {},
   "outputs": [
    {
     "data": {
      "text/html": [
       "<div style=\"width:100%;\"><div style=\"position:relative;width:100%;height:0;padding-bottom:60%;\"><iframe src=\"data:text/html;charset=utf-8;base64,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\" style=\"position:absolute;width:100%;height:100%;left:0;top:0;border:none !important;\" allowfullscreen webkitallowfullscreen mozallowfullscreen></iframe></div></div>"
      ],
      "text/plain": [
       "<folium.folium.Map at 0x7fedcedf1d68>"
      ]
     },
     "execution_count": 34,
     "metadata": {},
     "output_type": "execute_result"
    }
   ],
   "source": [
    "map_dl = folium.Map(location=[latitude, longitude], zoom_start=11)\n",
    "\n",
    "# add markers to map\n",
    "for lat, lng, label in zip(MYnearby_venues['lat'], MYnearby_venues['lng'], MYnearby_venues['name']):\n",
    "    label = folium.Popup(label, parse_html=True)\n",
    "    folium.RegularPolygonMarker(\n",
    "        [lat, lng],\n",
    "        number_of_sides=4,\n",
    "        radius=10,\n",
    "        popup=label,\n",
    "        color='blue',\n",
    "        fill_color='#0f0f0f',\n",
    "        fill_opacity=0.7,\n",
    "    ).add_to(map_dl)  \n",
    "    \n",
    "map_dl"
   ]
  },
  {
   "cell_type": "code",
   "execution_count": null,
   "metadata": {},
   "outputs": [],
   "source": []
  }
 ],
 "metadata": {
  "kernelspec": {
   "display_name": "Python 3.6",
   "language": "python",
   "name": "python3"
  },
  "language_info": {
   "codemirror_mode": {
    "name": "ipython",
    "version": 3
   },
   "file_extension": ".py",
   "mimetype": "text/x-python",
   "name": "python",
   "nbconvert_exporter": "python",
   "pygments_lexer": "ipython3",
   "version": "3.6.8"
  }
 },
 "nbformat": 4,
 "nbformat_minor": 1
}
